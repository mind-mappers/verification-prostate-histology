{
 "cells": [
  {
   "cell_type": "markdown",
   "metadata": {},
   "source": [
    "# Generate Data Configs"
   ]
  },
  {
   "cell_type": "code",
   "execution_count": 1,
   "metadata": {},
   "outputs": [],
   "source": [
    "import pandas as pd\n",
    "import numpy as np\n",
    "import json"
   ]
  },
  {
   "cell_type": "code",
   "execution_count": 2,
   "metadata": {},
   "outputs": [],
   "source": [
    "ground_truth_file_lookup = \"../data_processing/metadata/ground_truths.csv\""
   ]
  },
  {
   "cell_type": "markdown",
   "metadata": {},
   "source": [
    "## Configuration"
   ]
  },
  {
   "cell_type": "code",
   "execution_count": 3,
   "metadata": {},
   "outputs": [],
   "source": [
    "parent_dir = \"/data/ur/bukowy/LaViolette_Data/Prostates/\"\n",
    "output_parent_dir = \"./data/\"\n",
    "mri_image_filename = \"mri_slice_double_T2.nii\"\n",
    "hist_image_filename = \"small_recon_8_pgt_sharp.tiff\"\n",
    "hist_image_fallback_filename = \"small_recon_8_pgt_fuzzy.tiff\"\n",
    "csv_filename = \"histmri_controlPoints.csv\""
   ]
  },
  {
   "cell_type": "markdown",
   "metadata": {},
   "source": [
    "## Procedure"
   ]
  },
  {
   "cell_type": "code",
   "execution_count": 4,
   "metadata": {},
   "outputs": [],
   "source": [
    "ground_truths = pd.read_csv(ground_truth_file_lookup)"
   ]
  },
  {
   "cell_type": "code",
   "execution_count": 5,
   "metadata": {},
   "outputs": [
    {
     "name": "stdout",
     "output_type": "stream",
     "text": [
      "passed qc patients 232\n"
     ]
    }
   ],
   "source": [
    "passed_qc = ground_truths[ground_truths[\"PGT Sharp QC\"] == 1]\n",
    "passed_qc = passed_qc[passed_qc[\"T2\"] == 1]\n",
    "print(\"passed qc patients\", len(passed_qc))"
   ]
  },
  {
   "cell_type": "code",
   "execution_count": 6,
   "metadata": {},
   "outputs": [],
   "source": [
    "def f(p,s):\n",
    "    return [str(int(p)), str(int(s))]\n",
    "sample_include = [f(patient, slide) for patient, slide in zip(passed_qc[\"Patient\"], passed_qc[\"Slice\"])]"
   ]
  },
  {
   "cell_type": "markdown",
   "metadata": {},
   "source": [
    "## Make and Write Dict"
   ]
  },
  {
   "cell_type": "code",
   "execution_count": 7,
   "metadata": {},
   "outputs": [],
   "source": [
    "result = {\n",
    "    \"parent_dir\": parent_dir,\n",
    "    \"output_parent_dir\": output_parent_dir,\n",
    "    \"mri_image_filename\": mri_image_filename,\n",
    "    \"hist_image_filename\": hist_image_filename,\n",
    "    \"hist_image_fallback_filename\": hist_image_fallback_filename,\n",
    "    \"csv_filename\": csv_filename,\n",
    "    \"sample_include\": sample_include,\n",
    "    \"sample_blacklist\": []\n",
    "}"
   ]
  },
  {
   "cell_type": "code",
   "execution_count": 8,
   "metadata": {},
   "outputs": [],
   "source": [
    "with open(\"generated.json\", \"w\") as outfile:\n",
    "    json.dump(result, outfile)"
   ]
  },
  {
   "cell_type": "code",
   "execution_count": 10,
   "metadata": {
    "scrolled": true
   },
   "outputs": [
    {
     "name": "stdout",
     "output_type": "stream",
     "text": [
      "Num Patients 45\n",
      "Num Slides 232\n"
     ]
    }
   ],
   "source": [
    "print(\"Num Patients\", len(np.unique(passed_qc[\"Patient\"])))\n",
    "print(\"Num Slides\", len(sample_include))"
   ]
  },
  {
   "cell_type": "code",
   "execution_count": 11,
   "metadata": {},
   "outputs": [],
   "source": [
    "patients = np.unique(passed_qc[\"Patient\"])"
   ]
  },
  {
   "cell_type": "code",
   "execution_count": 12,
   "metadata": {},
   "outputs": [],
   "source": [
    "np.random.shuffle(patients)"
   ]
  },
  {
   "cell_type": "code",
   "execution_count": 15,
   "metadata": {},
   "outputs": [
    {
     "name": "stdout",
     "output_type": "stream",
     "text": [
      "Test Patients [1200 1137 1118 1102 1188 1204 1122]\n",
      "Validation Patients [1134 1110]\n",
      "Train Patients ['1111', '1131', '1187', '1155', '1140', '1152', '1159', '1106', '1154', '1136', '1113', '1142', '1124', '1121', '1148', '1126', '1190', '1141', '1191', '1108', '1203', '1104', '1158', '1144', '1128', '1138', '1129', '1107', '1133', '1147', '1105', '1132', '1185', '1123', '1149', '1125']\n"
     ]
    }
   ],
   "source": [
    "print(\"Test Patients\", patients[:7])\n",
    "print(\"Validation Patients\", patients[7:7+2])\n",
    "print(\"Train Patients\", [str(x) for x in patients[7+2:]])"
   ]
  }
 ],
 "metadata": {
  "kernelspec": {
   "display_name": "Python 3",
   "language": "python",
   "name": "python3"
  },
  "language_info": {
   "codemirror_mode": {
    "name": "ipython",
    "version": 3
   },
   "file_extension": ".py",
   "mimetype": "text/x-python",
   "name": "python",
   "nbconvert_exporter": "python",
   "pygments_lexer": "ipython3",
   "version": "3.7.3"
  }
 },
 "nbformat": 4,
 "nbformat_minor": 2
}
