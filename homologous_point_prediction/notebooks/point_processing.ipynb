{
 "cells": [
  {
   "cell_type": "code",
   "execution_count": 1,
   "metadata": {
    "scrolled": true
   },
   "outputs": [],
   "source": [
    "import numpy as np\n",
    "import pandas as pd\n",
    "import os\n",
    "import cv2\n",
    "import matplotlib.pyplot as plt\n",
    "import nibabel as nib\n",
    "from skimage import transform"
   ]
  },
  {
   "cell_type": "markdown",
   "metadata": {},
   "source": [
    "# Remove Control Points Not On Hist"
   ]
  },
  {
   "cell_type": "code",
   "execution_count": 2,
   "metadata": {},
   "outputs": [],
   "source": [
    "def load_histology(filepath):\n",
    "    \"\"\"Loads the histology as a grayscale 2D float32 array of range [0, 1]\"\"\"\n",
    "    hist = cv2.imread(filepath, cv2.IMREAD_UNCHANGED)\n",
    "    if len(hist.shape) == 3:\n",
    "        hist =  cv2.cvtColor(hist, cv2.COLOR_BGR2GRAY) # 2D uint8\n",
    "    return (hist / 255.0).astype(np.float32)"
   ]
  },
  {
   "cell_type": "code",
   "execution_count": 3,
   "metadata": {},
   "outputs": [],
   "source": [
    "def load_mri(filepath):\n",
    "    \"\"\"Loads MRI nii file returns a 2D float 32 array of range [0, 1]\"\"\"\n",
    "    mri = nib.load(filepath).get_fdata()\n",
    "    temp = mri - np.min(mri)\n",
    "    return (temp / (1 if np.max(temp) == 0 else np.max(temp))).astype(np.float32)"
   ]
  },
  {
   "cell_type": "code",
   "execution_count": 4,
   "metadata": {},
   "outputs": [],
   "source": [
    "def get_leaf_dirs(dir):\n",
    "    '''\n",
    "    @param dir: The parent directory to recursively search\n",
    "    returns: A list of paths to all leaf directories\n",
    "    '''\n",
    "    return [dirpath for dirpath, dirnames, filenames in os.walk(dir) if not dirnames]"
   ]
  },
  {
   "cell_type": "code",
   "execution_count": 5,
   "metadata": {},
   "outputs": [],
   "source": [
    "def is_valid_point(point, image, radius=3):\n",
    "    window_sum = np.sum(image[point[0]-radius:point[0]+radius+1, point[1]-radius:point[1]+radius+1])\n",
    "    return window_sum > 0.1"
   ]
  },
  {
   "cell_type": "code",
   "execution_count": 6,
   "metadata": {},
   "outputs": [],
   "source": [
    "def process_folder_moving(folder, should_plot=False):\n",
    "    try:\n",
    "        points = pd.read_csv(os.path.join(folder, \"histmri_controlPoints.csv\"), header=None).to_numpy().astype(int)\n",
    "    except:\n",
    "        print(\"failed to read points:\", folder)\n",
    "        return\n",
    "        \n",
    "    try:\n",
    "        mri = load_mri(os.path.join(folder, \"mri_slice_double_T2_norm.nii\"))\n",
    "    except:\n",
    "        print(\"failed to read mri:\", folder)\n",
    "        return\n",
    "    \n",
    "    try:\n",
    "        try:\n",
    "            histology = load_histology(os.path.join(folder, \"small_recon_8_pgt_sharp.tiff\"))\n",
    "        except:\n",
    "            histology = load_histology(os.path.join(folder, \"small_recon_8_pgt_fuzzy.tiff\"))\n",
    "    except:\n",
    "        print(\"failed to read histology\", folder)\n",
    "        return\n",
    "        \n",
    "    \n",
    "    hist_points = np.flip(points[:, :2], axis=-1)\n",
    "    mri_points = np.flip(points[:, 2:], axis=-1)\n",
    "    \n",
    "    # Get Filter Indices\n",
    "    keep_list = []\n",
    "    for i in range(len(points)):\n",
    "        is_valid = is_valid_point(hist_points[i], histology) and is_valid_point(mri_points[i], mri)\n",
    "        keep_list.append(is_valid)\n",
    "        \n",
    "    keep_list = np.array(keep_list)\n",
    "    num_removed = np.sum(keep_list == False)\n",
    "    filtered_points = points[keep_list]\n",
    "    \n",
    "    if num_removed > 0 and should_plot:\n",
    "        fig, ax = plt.subplots(nrows=2, ncols=2, figsize=(15,15))\n",
    "        ax[0][0].imshow(histology, cmap=\"gray\")\n",
    "        ax[0][0].scatter(points[:, 0], points[:, 1])\n",
    "        ax[0][1].imshow(histology, cmap=\"gray\")\n",
    "        ax[0][1].scatter(filtered_points[:, 0], filtered_points[:, 1])\n",
    "        ax[1][0].imshow(mri, cmap=\"gray\")\n",
    "        ax[1][0].scatter(points[:, 2], points[:, 3])\n",
    "        ax[1][1].imshow(mri, cmap=\"gray\")\n",
    "        ax[1][1].scatter(filtered_points[:, 2], filtered_points[:, 3])\n",
    "        fig.suptitle(\"Total {0} Points Removed\".format(num_removed))\n",
    "        fig.savefig(os.path.join(folder, \"filtered_point_QC.png\"))\n",
    "        \n",
    "    np.savetxt(os.path.join(folder, \"filtered_points.csv\"), filtered_points.astype(int), delimiter=\",\")\n",
    "\n",
    "    return filtered_points"
   ]
  },
  {
   "cell_type": "markdown",
   "metadata": {},
   "source": [
    "### Run"
   ]
  },
  {
   "cell_type": "code",
   "execution_count": 7,
   "metadata": {},
   "outputs": [],
   "source": [
    "all_slides = get_leaf_dirs(\"/data/ur/bukowy/LaViolette_Data/Prostates/\")"
   ]
  },
  {
   "cell_type": "code",
   "execution_count": 8,
   "metadata": {
    "scrolled": false
   },
   "outputs": [
    {
     "name": "stdout",
     "output_type": "stream",
     "text": [
      "400\n"
     ]
    }
   ],
   "source": [
    "print(len(all_slides))"
   ]
  },
  {
   "cell_type": "code",
   "execution_count": 9,
   "metadata": {
    "scrolled": true
   },
   "outputs": [
    {
     "name": "stderr",
     "output_type": "stream",
     "text": [
      "pixdim[1,2,3] should be non-zero; setting 0 dims to 1\n",
      "pixdim[1,2,3] should be non-zero; setting 0 dims to 1\n",
      "pixdim[1,2,3] should be non-zero; setting 0 dims to 1\n",
      "pixdim[1,2,3] should be non-zero; setting 0 dims to 1\n",
      "pixdim[1,2,3] should be non-zero; setting 0 dims to 1\n",
      "pixdim[1,2,3] should be non-zero; setting 0 dims to 1\n"
     ]
    },
    {
     "name": "stdout",
     "output_type": "stream",
     "text": [
      "failed to read histology /data/ur/bukowy/LaViolette_Data/Prostates/1101/6\n",
      "failed to read histology /data/ur/bukowy/LaViolette_Data/Prostates/1101/9\n",
      "failed to read histology /data/ur/bukowy/LaViolette_Data/Prostates/1101/7\n",
      "failed to read histology /data/ur/bukowy/LaViolette_Data/Prostates/1101/8\n"
     ]
    },
    {
     "name": "stderr",
     "output_type": "stream",
     "text": [
      "pixdim[1,2,3] should be non-zero; setting 0 dims to 1\n",
      "pixdim[1,2,3] should be non-zero; setting 0 dims to 1\n",
      "pixdim[1,2,3] should be non-zero; setting 0 dims to 1\n",
      "pixdim[1,2,3] should be non-zero; setting 0 dims to 1\n",
      "pixdim[1,2,3] should be non-zero; setting 0 dims to 1\n",
      "pixdim[1,2,3] should be non-zero; setting 0 dims to 1\n",
      "pixdim[1,2,3] should be non-zero; setting 0 dims to 1\n",
      "pixdim[1,2,3] should be non-zero; setting 0 dims to 1\n",
      "pixdim[1,2,3] should be non-zero; setting 0 dims to 1\n",
      "pixdim[1,2,3] should be non-zero; setting 0 dims to 1\n",
      "pixdim[1,2,3] should be non-zero; setting 0 dims to 1\n"
     ]
    },
    {
     "name": "stdout",
     "output_type": "stream",
     "text": [
      "failed to read mri: /data/ur/bukowy/LaViolette_Data/Prostates/1105/10\n",
      "failed to read mri: /data/ur/bukowy/LaViolette_Data/Prostates/1105/12\n",
      "failed to read mri: /data/ur/bukowy/LaViolette_Data/Prostates/1105/13\n",
      "failed to read mri: /data/ur/bukowy/LaViolette_Data/Prostates/1105/14\n",
      "failed to read mri: /data/ur/bukowy/LaViolette_Data/Prostates/1105/15\n",
      "failed to read mri: /data/ur/bukowy/LaViolette_Data/Prostates/1105/19\n",
      "failed to read mri: /data/ur/bukowy/LaViolette_Data/Prostates/1106/8\n"
     ]
    },
    {
     "name": "stderr",
     "output_type": "stream",
     "text": [
      "pixdim[1,2,3] should be non-zero; setting 0 dims to 1\n",
      "pixdim[1,2,3] should be non-zero; setting 0 dims to 1\n",
      "pixdim[1,2,3] should be non-zero; setting 0 dims to 1\n",
      "pixdim[1,2,3] should be non-zero; setting 0 dims to 1\n",
      "pixdim[1,2,3] should be non-zero; setting 0 dims to 1\n",
      "pixdim[1,2,3] should be non-zero; setting 0 dims to 1\n"
     ]
    },
    {
     "name": "stdout",
     "output_type": "stream",
     "text": [
      "failed to read points: /data/ur/bukowy/LaViolette_Data/Prostates/1107/12\n",
      "failed to read points: /data/ur/bukowy/LaViolette_Data/Prostates/1107/13\n",
      "failed to read points: /data/ur/bukowy/LaViolette_Data/Prostates/1107/5\n"
     ]
    },
    {
     "name": "stderr",
     "output_type": "stream",
     "text": [
      "pixdim[1,2,3] should be non-zero; setting 0 dims to 1\n",
      "pixdim[1,2,3] should be non-zero; setting 0 dims to 1\n",
      "pixdim[1,2,3] should be non-zero; setting 0 dims to 1\n",
      "pixdim[1,2,3] should be non-zero; setting 0 dims to 1\n",
      "pixdim[1,2,3] should be non-zero; setting 0 dims to 1\n"
     ]
    },
    {
     "name": "stdout",
     "output_type": "stream",
     "text": [
      "failed to read points: /data/ur/bukowy/LaViolette_Data/Prostates/1108/11\n",
      "failed to read points: /data/ur/bukowy/LaViolette_Data/Prostates/1108/12\n",
      "failed to read points: /data/ur/bukowy/LaViolette_Data/Prostates/1108/13\n",
      "failed to read mri: /data/ur/bukowy/LaViolette_Data/Prostates/1108/7\n",
      "failed to read points: /data/ur/bukowy/LaViolette_Data/Prostates/1110/10\n"
     ]
    },
    {
     "name": "stderr",
     "output_type": "stream",
     "text": [
      "pixdim[1,2,3] should be non-zero; setting 0 dims to 1\n",
      "pixdim[1,2,3] should be non-zero; setting 0 dims to 1\n",
      "pixdim[1,2,3] should be non-zero; setting 0 dims to 1\n",
      "pixdim[1,2,3] should be non-zero; setting 0 dims to 1\n"
     ]
    },
    {
     "name": "stdout",
     "output_type": "stream",
     "text": [
      "failed to read points: /data/ur/bukowy/LaViolette_Data/Prostates/1110/12\n",
      "failed to read points: /data/ur/bukowy/LaViolette_Data/Prostates/1110/13\n",
      "failed to read mri: /data/ur/bukowy/LaViolette_Data/Prostates/1110/5\n"
     ]
    },
    {
     "name": "stderr",
     "output_type": "stream",
     "text": [
      "pixdim[1,2,3] should be non-zero; setting 0 dims to 1\n",
      "pixdim[1,2,3] should be non-zero; setting 0 dims to 1\n",
      "pixdim[1,2,3] should be non-zero; setting 0 dims to 1\n",
      "pixdim[1,2,3] should be non-zero; setting 0 dims to 1\n",
      "pixdim[1,2,3] should be non-zero; setting 0 dims to 1\n"
     ]
    },
    {
     "name": "stdout",
     "output_type": "stream",
     "text": [
      "failed to read histology /data/ur/bukowy/LaViolette_Data/Prostates/1111/9\n"
     ]
    },
    {
     "name": "stderr",
     "output_type": "stream",
     "text": [
      "pixdim[1,2,3] should be non-zero; setting 0 dims to 1\n",
      "pixdim[1,2,3] should be non-zero; setting 0 dims to 1\n",
      "pixdim[1,2,3] should be non-zero; setting 0 dims to 1\n",
      "pixdim[1,2,3] should be non-zero; setting 0 dims to 1\n",
      "pixdim[1,2,3] should be non-zero; setting 0 dims to 1\n"
     ]
    },
    {
     "name": "stdout",
     "output_type": "stream",
     "text": [
      "failed to read points: /data/ur/bukowy/LaViolette_Data/Prostates/1111/5\n",
      "failed to read points: /data/ur/bukowy/LaViolette_Data/Prostates/1112/18\n",
      "failed to read mri: /data/ur/bukowy/LaViolette_Data/Prostates/1112/9\n",
      "failed to read mri: /data/ur/bukowy/LaViolette_Data/Prostates/1112/11\n",
      "failed to read mri: /data/ur/bukowy/LaViolette_Data/Prostates/1112/16\n",
      "failed to read points: /data/ur/bukowy/LaViolette_Data/Prostates/1112/17\n",
      "failed to read mri: /data/ur/bukowy/LaViolette_Data/Prostates/1112/10\n",
      "failed to read mri: /data/ur/bukowy/LaViolette_Data/Prostates/1112/8\n",
      "failed to read mri: /data/ur/bukowy/LaViolette_Data/Prostates/1112/15\n",
      "failed to read mri: /data/ur/bukowy/LaViolette_Data/Prostates/1112/12\n",
      "failed to read mri: /data/ur/bukowy/LaViolette_Data/Prostates/1112/13\n",
      "failed to read mri: /data/ur/bukowy/LaViolette_Data/Prostates/1112/14\n"
     ]
    },
    {
     "name": "stderr",
     "output_type": "stream",
     "text": [
      "pixdim[1,2,3] should be non-zero; setting 0 dims to 1\n",
      "pixdim[1,2,3] should be non-zero; setting 0 dims to 1\n",
      "pixdim[1,2,3] should be non-zero; setting 0 dims to 1\n",
      "pixdim[1,2,3] should be non-zero; setting 0 dims to 1\n",
      "pixdim[1,2,3] should be non-zero; setting 0 dims to 1\n",
      "pixdim[1,2,3] should be non-zero; setting 0 dims to 1\n"
     ]
    },
    {
     "name": "stdout",
     "output_type": "stream",
     "text": [
      "failed to read points: /data/ur/bukowy/LaViolette_Data/Prostates/1113/12\n"
     ]
    },
    {
     "name": "stderr",
     "output_type": "stream",
     "text": [
      "pixdim[1,2,3] should be non-zero; setting 0 dims to 1\n",
      "pixdim[1,2,3] should be non-zero; setting 0 dims to 1\n",
      "pixdim[1,2,3] should be non-zero; setting 0 dims to 1\n",
      "pixdim[1,2,3] should be non-zero; setting 0 dims to 1\n"
     ]
    },
    {
     "name": "stdout",
     "output_type": "stream",
     "text": [
      "failed to read points: /data/ur/bukowy/LaViolette_Data/Prostates/1121/6\n",
      "failed to read points: /data/ur/bukowy/LaViolette_Data/Prostates/1122/11\n"
     ]
    },
    {
     "name": "stderr",
     "output_type": "stream",
     "text": [
      "pixdim[1,2,3] should be non-zero; setting 0 dims to 1\n",
      "pixdim[1,2,3] should be non-zero; setting 0 dims to 1\n",
      "pixdim[1,2,3] should be non-zero; setting 0 dims to 1\n",
      "pixdim[1,2,3] should be non-zero; setting 0 dims to 1\n",
      "pixdim[1,2,3] should be non-zero; setting 0 dims to 1\n",
      "pixdim[1,2,3] should be non-zero; setting 0 dims to 1\n",
      "pixdim[1,2,3] should be non-zero; setting 0 dims to 1\n"
     ]
    },
    {
     "name": "stdout",
     "output_type": "stream",
     "text": [
      "failed to read mri: /data/ur/bukowy/LaViolette_Data/Prostates/1115/9\n",
      "failed to read mri: /data/ur/bukowy/LaViolette_Data/Prostates/1115/11\n",
      "failed to read mri: /data/ur/bukowy/LaViolette_Data/Prostates/1115/7\n",
      "failed to read mri: /data/ur/bukowy/LaViolette_Data/Prostates/1115/6\n",
      "failed to read mri: /data/ur/bukowy/LaViolette_Data/Prostates/1115/10\n",
      "failed to read mri: /data/ur/bukowy/LaViolette_Data/Prostates/1115/8\n",
      "failed to read points: /data/ur/bukowy/LaViolette_Data/Prostates/1115/5\n",
      "failed to read points: /data/ur/bukowy/LaViolette_Data/Prostates/1118/6\n"
     ]
    },
    {
     "name": "stderr",
     "output_type": "stream",
     "text": [
      "pixdim[1,2,3] should be non-zero; setting 0 dims to 1\n",
      "pixdim[1,2,3] should be non-zero; setting 0 dims to 1\n",
      "pixdim[1,2,3] should be non-zero; setting 0 dims to 1\n"
     ]
    },
    {
     "name": "stdout",
     "output_type": "stream",
     "text": [
      "failed to read points: /data/ur/bukowy/LaViolette_Data/Prostates/1118/15\n",
      "failed to read points: /data/ur/bukowy/LaViolette_Data/Prostates/1118/12\n",
      "failed to read points: /data/ur/bukowy/LaViolette_Data/Prostates/1118/13\n",
      "failed to read points: /data/ur/bukowy/LaViolette_Data/Prostates/1118/14\n",
      "failed to read points: /data/ur/bukowy/LaViolette_Data/Prostates/images_for_JB\n"
     ]
    },
    {
     "name": "stderr",
     "output_type": "stream",
     "text": [
      "pixdim[1,2,3] should be non-zero; setting 0 dims to 1\n",
      "pixdim[1,2,3] should be non-zero; setting 0 dims to 1\n",
      "pixdim[1,2,3] should be non-zero; setting 0 dims to 1\n",
      "pixdim[1,2,3] should be non-zero; setting 0 dims to 1\n",
      "pixdim[1,2,3] should be non-zero; setting 0 dims to 1\n"
     ]
    },
    {
     "name": "stdout",
     "output_type": "stream",
     "text": [
      "failed to read histology /data/ur/bukowy/LaViolette_Data/Prostates/1128/13\n",
      "failed to read points: /data/ur/bukowy/LaViolette_Data/Prostates/1128/14\n",
      "failed to read points: /data/ur/bukowy/LaViolette_Data/Prostates/1128/6\n"
     ]
    },
    {
     "name": "stderr",
     "output_type": "stream",
     "text": [
      "pixdim[1,2,3] should be non-zero; setting 0 dims to 1\n",
      "pixdim[1,2,3] should be non-zero; setting 0 dims to 1\n",
      "pixdim[1,2,3] should be non-zero; setting 0 dims to 1\n",
      "pixdim[1,2,3] should be non-zero; setting 0 dims to 1\n",
      "pixdim[1,2,3] should be non-zero; setting 0 dims to 1\n"
     ]
    },
    {
     "name": "stdout",
     "output_type": "stream",
     "text": [
      "failed to read histology /data/ur/bukowy/LaViolette_Data/Prostates/1129/10\n",
      "failed to read points: /data/ur/bukowy/LaViolette_Data/Prostates/1129/11\n",
      "failed to read points: /data/ur/bukowy/LaViolette_Data/Prostates/1129/5\n",
      "failed to read points: /data/ur/bukowy/LaViolette_Data/Prostates/1129/6\n",
      "failed to read histology /data/ur/bukowy/LaViolette_Data/Prostates/1129/7\n",
      "failed to read points: /data/ur/bukowy/LaViolette_Data/Prostates/1131/10\n",
      "failed to read points: /data/ur/bukowy/LaViolette_Data/Prostates/1131/11\n"
     ]
    },
    {
     "name": "stderr",
     "output_type": "stream",
     "text": [
      "pixdim[1,2,3] should be non-zero; setting 0 dims to 1\n",
      "pixdim[1,2,3] should be non-zero; setting 0 dims to 1\n",
      "pixdim[1,2,3] should be non-zero; setting 0 dims to 1\n",
      "pixdim[1,2,3] should be non-zero; setting 0 dims to 1\n",
      "pixdim[1,2,3] should be non-zero; setting 0 dims to 1\n",
      "pixdim[1,2,3] should be non-zero; setting 0 dims to 1\n",
      "pixdim[1,2,3] should be non-zero; setting 0 dims to 1\n"
     ]
    },
    {
     "name": "stdout",
     "output_type": "stream",
     "text": [
      "failed to read histology /data/ur/bukowy/LaViolette_Data/Prostates/1131/9\n",
      "failed to read histology /data/ur/bukowy/LaViolette_Data/Prostates/1132/11\n",
      "failed to read points: /data/ur/bukowy/LaViolette_Data/Prostates/1132/13\n",
      "failed to read points: /data/ur/bukowy/LaViolette_Data/Prostates/1132/14\n"
     ]
    },
    {
     "name": "stderr",
     "output_type": "stream",
     "text": [
      "pixdim[1,2,3] should be non-zero; setting 0 dims to 1\n",
      "pixdim[1,2,3] should be non-zero; setting 0 dims to 1\n",
      "pixdim[1,2,3] should be non-zero; setting 0 dims to 1\n",
      "pixdim[1,2,3] should be non-zero; setting 0 dims to 1\n",
      "pixdim[1,2,3] should be non-zero; setting 0 dims to 1\n",
      "pixdim[1,2,3] should be non-zero; setting 0 dims to 1\n",
      "pixdim[1,2,3] should be non-zero; setting 0 dims to 1\n",
      "pixdim[1,2,3] should be non-zero; setting 0 dims to 1\n",
      "pixdim[1,2,3] should be non-zero; setting 0 dims to 1\n"
     ]
    },
    {
     "name": "stdout",
     "output_type": "stream",
     "text": [
      "failed to read points: /data/ur/bukowy/LaViolette_Data/Prostates/1123/11\n",
      "failed to read points: /data/ur/bukowy/LaViolette_Data/Prostates/1123/12\n",
      "failed to read points: /data/ur/bukowy/LaViolette_Data/Prostates/1123/5\n"
     ]
    },
    {
     "name": "stderr",
     "output_type": "stream",
     "text": [
      "pixdim[1,2,3] should be non-zero; setting 0 dims to 1\n",
      "pixdim[1,2,3] should be non-zero; setting 0 dims to 1\n",
      "pixdim[1,2,3] should be non-zero; setting 0 dims to 1\n",
      "pixdim[1,2,3] should be non-zero; setting 0 dims to 1\n"
     ]
    },
    {
     "name": "stdout",
     "output_type": "stream",
     "text": [
      "failed to read histology /data/ur/bukowy/LaViolette_Data/Prostates/1133/10\n",
      "failed to read points: /data/ur/bukowy/LaViolette_Data/Prostates/1133/11\n",
      "failed to read points: /data/ur/bukowy/LaViolette_Data/Prostates/1133/12\n",
      "failed to read points: /data/ur/bukowy/LaViolette_Data/Prostates/1133/13\n"
     ]
    },
    {
     "name": "stderr",
     "output_type": "stream",
     "text": [
      "pixdim[1,2,3] should be non-zero; setting 0 dims to 1\n",
      "pixdim[1,2,3] should be non-zero; setting 0 dims to 1\n",
      "pixdim[1,2,3] should be non-zero; setting 0 dims to 1\n",
      "pixdim[1,2,3] should be non-zero; setting 0 dims to 1\n",
      "pixdim[1,2,3] should be non-zero; setting 0 dims to 1\n",
      "pixdim[1,2,3] should be non-zero; setting 0 dims to 1\n"
     ]
    },
    {
     "name": "stdout",
     "output_type": "stream",
     "text": [
      "failed to read histology /data/ur/bukowy/LaViolette_Data/Prostates/1133/9\n",
      "failed to read histology /data/ur/bukowy/LaViolette_Data/Prostates/1134/10\n",
      "failed to read points: /data/ur/bukowy/LaViolette_Data/Prostates/1134/7\n",
      "failed to read points: /data/ur/bukowy/LaViolette_Data/Prostates/1134/8\n"
     ]
    },
    {
     "name": "stderr",
     "output_type": "stream",
     "text": [
      "pixdim[1,2,3] should be non-zero; setting 0 dims to 1\n",
      "pixdim[1,2,3] should be non-zero; setting 0 dims to 1\n",
      "pixdim[1,2,3] should be non-zero; setting 0 dims to 1\n",
      "pixdim[1,2,3] should be non-zero; setting 0 dims to 1\n"
     ]
    },
    {
     "name": "stdout",
     "output_type": "stream",
     "text": [
      "failed to read histology /data/ur/bukowy/LaViolette_Data/Prostates/1134/9\n",
      "failed to read points: /data/ur/bukowy/LaViolette_Data/Prostates/1136/10\n",
      "failed to read points: /data/ur/bukowy/LaViolette_Data/Prostates/1136/11\n",
      "failed to read points: /data/ur/bukowy/LaViolette_Data/Prostates/1136/12\n",
      "failed to read points: /data/ur/bukowy/LaViolette_Data/Prostates/1136/13\n",
      "failed to read points: /data/ur/bukowy/LaViolette_Data/Prostates/1136/14\n",
      "failed to read points: /data/ur/bukowy/LaViolette_Data/Prostates/1136/15\n",
      "failed to read histology /data/ur/bukowy/LaViolette_Data/Prostates/1136/7\n"
     ]
    },
    {
     "name": "stderr",
     "output_type": "stream",
     "text": [
      "pixdim[1,2,3] should be non-zero; setting 0 dims to 1\n",
      "pixdim[1,2,3] should be non-zero; setting 0 dims to 1\n",
      "pixdim[1,2,3] should be non-zero; setting 0 dims to 1\n",
      "pixdim[1,2,3] should be non-zero; setting 0 dims to 1\n",
      "pixdim[1,2,3] should be non-zero; setting 0 dims to 1\n"
     ]
    },
    {
     "name": "stdout",
     "output_type": "stream",
     "text": [
      "failed to read histology /data/ur/bukowy/LaViolette_Data/Prostates/1137/10\n",
      "failed to read histology /data/ur/bukowy/LaViolette_Data/Prostates/1137/11\n",
      "failed to read points: /data/ur/bukowy/LaViolette_Data/Prostates/1137/5\n"
     ]
    },
    {
     "name": "stderr",
     "output_type": "stream",
     "text": [
      "pixdim[1,2,3] should be non-zero; setting 0 dims to 1\n",
      "pixdim[1,2,3] should be non-zero; setting 0 dims to 1\n",
      "pixdim[1,2,3] should be non-zero; setting 0 dims to 1\n",
      "pixdim[1,2,3] should be non-zero; setting 0 dims to 1\n",
      "pixdim[1,2,3] should be non-zero; setting 0 dims to 1\n",
      "pixdim[1,2,3] should be non-zero; setting 0 dims to 1\n",
      "pixdim[1,2,3] should be non-zero; setting 0 dims to 1\n",
      "pixdim[1,2,3] should be non-zero; setting 0 dims to 1\n",
      "pixdim[1,2,3] should be non-zero; setting 0 dims to 1\n"
     ]
    },
    {
     "name": "stdout",
     "output_type": "stream",
     "text": [
      "failed to read points: /data/ur/bukowy/LaViolette_Data/Prostates/1124/13\n",
      "failed to read points: /data/ur/bukowy/LaViolette_Data/Prostates/1124/5\n"
     ]
    },
    {
     "name": "stderr",
     "output_type": "stream",
     "text": [
      "pixdim[1,2,3] should be non-zero; setting 0 dims to 1\n",
      "pixdim[1,2,3] should be non-zero; setting 0 dims to 1\n",
      "pixdim[1,2,3] should be non-zero; setting 0 dims to 1\n",
      "pixdim[1,2,3] should be non-zero; setting 0 dims to 1\n"
     ]
    },
    {
     "name": "stdout",
     "output_type": "stream",
     "text": [
      "failed to read points: /data/ur/bukowy/LaViolette_Data/Prostates/1125/12\n",
      "failed to read points: /data/ur/bukowy/LaViolette_Data/Prostates/1125/5\n",
      "failed to read mri: /data/ur/bukowy/LaViolette_Data/Prostates/1125/6\n"
     ]
    },
    {
     "name": "stderr",
     "output_type": "stream",
     "text": [
      "pixdim[1,2,3] should be non-zero; setting 0 dims to 1\n",
      "pixdim[1,2,3] should be non-zero; setting 0 dims to 1\n",
      "pixdim[1,2,3] should be non-zero; setting 0 dims to 1\n",
      "pixdim[1,2,3] should be non-zero; setting 0 dims to 1\n",
      "pixdim[1,2,3] should be non-zero; setting 0 dims to 1\n"
     ]
    },
    {
     "name": "stdout",
     "output_type": "stream",
     "text": [
      "failed to read points: /data/ur/bukowy/LaViolette_Data/Prostates/1126/12\n",
      "failed to read points: /data/ur/bukowy/LaViolette_Data/Prostates/1126/13\n",
      "failed to read points: /data/ur/bukowy/LaViolette_Data/Prostates/1126/14\n",
      "failed to read points: /data/ur/bukowy/LaViolette_Data/Prostates/1126/5\n"
     ]
    },
    {
     "name": "stderr",
     "output_type": "stream",
     "text": [
      "pixdim[1,2,3] should be non-zero; setting 0 dims to 1\n",
      "pixdim[1,2,3] should be non-zero; setting 0 dims to 1\n",
      "pixdim[1,2,3] should be non-zero; setting 0 dims to 1\n",
      "pixdim[1,2,3] should be non-zero; setting 0 dims to 1\n",
      "pixdim[1,2,3] should be non-zero; setting 0 dims to 1\n",
      "pixdim[1,2,3] should be non-zero; setting 0 dims to 1\n",
      "pixdim[1,2,3] should be non-zero; setting 0 dims to 1\n",
      "pixdim[1,2,3] should be non-zero; setting 0 dims to 1\n"
     ]
    },
    {
     "name": "stdout",
     "output_type": "stream",
     "text": [
      "failed to read histology /data/ur/bukowy/LaViolette_Data/Prostates/1127/10\n",
      "failed to read histology /data/ur/bukowy/LaViolette_Data/Prostates/1127/11\n",
      "failed to read histology /data/ur/bukowy/LaViolette_Data/Prostates/1127/12\n",
      "failed to read points: /data/ur/bukowy/LaViolette_Data/Prostates/1127/13\n",
      "failed to read points: /data/ur/bukowy/LaViolette_Data/Prostates/1127/5\n",
      "failed to read histology /data/ur/bukowy/LaViolette_Data/Prostates/1127/6\n",
      "failed to read histology /data/ur/bukowy/LaViolette_Data/Prostates/1127/7\n",
      "failed to read histology /data/ur/bukowy/LaViolette_Data/Prostates/1127/8\n",
      "failed to read mri: /data/ur/bukowy/LaViolette_Data/Prostates/1127/9\n",
      "failed to read points: /data/ur/bukowy/LaViolette_Data/Prostates/1138/10\n"
     ]
    },
    {
     "name": "stderr",
     "output_type": "stream",
     "text": [
      "pixdim[1,2,3] should be non-zero; setting 0 dims to 1\n",
      "pixdim[1,2,3] should be non-zero; setting 0 dims to 1\n",
      "pixdim[1,2,3] should be non-zero; setting 0 dims to 1\n",
      "pixdim[1,2,3] should be non-zero; setting 0 dims to 1\n",
      "pixdim[1,2,3] should be non-zero; setting 0 dims to 1\n"
     ]
    },
    {
     "name": "stdout",
     "output_type": "stream",
     "text": [
      "failed to read histology /data/ur/bukowy/LaViolette_Data/Prostates/1138/6\n",
      "failed to read histology /data/ur/bukowy/LaViolette_Data/Prostates/1138/7\n"
     ]
    },
    {
     "name": "stderr",
     "output_type": "stream",
     "text": [
      "pixdim[1,2,3] should be non-zero; setting 0 dims to 1\n",
      "pixdim[1,2,3] should be non-zero; setting 0 dims to 1\n",
      "pixdim[1,2,3] should be non-zero; setting 0 dims to 1\n",
      "pixdim[1,2,3] should be non-zero; setting 0 dims to 1\n",
      "pixdim[1,2,3] should be non-zero; setting 0 dims to 1\n",
      "pixdim[1,2,3] should be non-zero; setting 0 dims to 1\n"
     ]
    },
    {
     "name": "stdout",
     "output_type": "stream",
     "text": [
      "failed to read points: /data/ur/bukowy/LaViolette_Data/Prostates/1140/14\n",
      "failed to read points: /data/ur/bukowy/LaViolette_Data/Prostates/1140/15\n",
      "failed to read points: /data/ur/bukowy/LaViolette_Data/Prostates/1140/16\n",
      "failed to read points: /data/ur/bukowy/LaViolette_Data/Prostates/1140/17\n"
     ]
    },
    {
     "name": "stderr",
     "output_type": "stream",
     "text": [
      "pixdim[1,2,3] should be non-zero; setting 0 dims to 1\n",
      "pixdim[1,2,3] should be non-zero; setting 0 dims to 1\n",
      "pixdim[1,2,3] should be non-zero; setting 0 dims to 1\n"
     ]
    },
    {
     "name": "stdout",
     "output_type": "stream",
     "text": [
      "failed to read points: /data/ur/bukowy/LaViolette_Data/Prostates/1141/10\n",
      "failed to read points: /data/ur/bukowy/LaViolette_Data/Prostates/1141/11\n",
      "failed to read points: /data/ur/bukowy/LaViolette_Data/Prostates/1141/12\n"
     ]
    },
    {
     "name": "stderr",
     "output_type": "stream",
     "text": [
      "pixdim[1,2,3] should be non-zero; setting 0 dims to 1\n",
      "pixdim[1,2,3] should be non-zero; setting 0 dims to 1\n",
      "pixdim[1,2,3] should be non-zero; setting 0 dims to 1\n",
      "pixdim[1,2,3] should be non-zero; setting 0 dims to 1\n"
     ]
    },
    {
     "name": "stdout",
     "output_type": "stream",
     "text": [
      "failed to read points: /data/ur/bukowy/LaViolette_Data/Prostates/1141/9\n",
      "failed to read points: /data/ur/bukowy/LaViolette_Data/Prostates/1142/5\n"
     ]
    },
    {
     "name": "stderr",
     "output_type": "stream",
     "text": [
      "pixdim[1,2,3] should be non-zero; setting 0 dims to 1\n",
      "pixdim[1,2,3] should be non-zero; setting 0 dims to 1\n",
      "pixdim[1,2,3] should be non-zero; setting 0 dims to 1\n",
      "pixdim[1,2,3] should be non-zero; setting 0 dims to 1\n",
      "pixdim[1,2,3] should be non-zero; setting 0 dims to 1\n"
     ]
    },
    {
     "name": "stdout",
     "output_type": "stream",
     "text": [
      "failed to read points: /data/ur/bukowy/LaViolette_Data/Prostates/1144/11\n",
      "failed to read points: /data/ur/bukowy/LaViolette_Data/Prostates/1144/12\n",
      "failed to read points: /data/ur/bukowy/LaViolette_Data/Prostates/1144/13\n",
      "failed to read points: /data/ur/bukowy/LaViolette_Data/Prostates/1144/5\n",
      "failed to read points: /data/ur/bukowy/LaViolette_Data/Prostates/1144/6\n",
      "failed to read points: /data/ur/bukowy/LaViolette_Data/Prostates/1144/8\n"
     ]
    },
    {
     "name": "stderr",
     "output_type": "stream",
     "text": [
      "pixdim[1,2,3] should be non-zero; setting 0 dims to 1\n",
      "pixdim[1,2,3] should be non-zero; setting 0 dims to 1\n",
      "pixdim[1,2,3] should be non-zero; setting 0 dims to 1\n",
      "pixdim[1,2,3] should be non-zero; setting 0 dims to 1\n",
      "pixdim[1,2,3] should be non-zero; setting 0 dims to 1\n",
      "pixdim[1,2,3] should be non-zero; setting 0 dims to 1\n",
      "pixdim[1,2,3] should be non-zero; setting 0 dims to 1\n"
     ]
    },
    {
     "name": "stdout",
     "output_type": "stream",
     "text": [
      "failed to read points: /data/ur/bukowy/LaViolette_Data/Prostates/1147/15\n",
      "failed to read points: /data/ur/bukowy/LaViolette_Data/Prostates/1147/5\n"
     ]
    },
    {
     "name": "stderr",
     "output_type": "stream",
     "text": [
      "pixdim[1,2,3] should be non-zero; setting 0 dims to 1\n",
      "pixdim[1,2,3] should be non-zero; setting 0 dims to 1\n",
      "pixdim[1,2,3] should be non-zero; setting 0 dims to 1\n",
      "pixdim[1,2,3] should be non-zero; setting 0 dims to 1\n",
      "pixdim[1,2,3] should be non-zero; setting 0 dims to 1\n"
     ]
    },
    {
     "name": "stdout",
     "output_type": "stream",
     "text": [
      "failed to read histology /data/ur/bukowy/LaViolette_Data/Prostates/1148/10\n",
      "failed to read points: /data/ur/bukowy/LaViolette_Data/Prostates/1148/11\n",
      "failed to read points: /data/ur/bukowy/LaViolette_Data/Prostates/1148/12\n"
     ]
    },
    {
     "name": "stderr",
     "output_type": "stream",
     "text": [
      "pixdim[1,2,3] should be non-zero; setting 0 dims to 1\n",
      "pixdim[1,2,3] should be non-zero; setting 0 dims to 1\n",
      "pixdim[1,2,3] should be non-zero; setting 0 dims to 1\n",
      "pixdim[1,2,3] should be non-zero; setting 0 dims to 1\n",
      "pixdim[1,2,3] should be non-zero; setting 0 dims to 1\n",
      "pixdim[1,2,3] should be non-zero; setting 0 dims to 1\n",
      "pixdim[1,2,3] should be non-zero; setting 0 dims to 1\n"
     ]
    },
    {
     "name": "stdout",
     "output_type": "stream",
     "text": [
      "failed to read points: /data/ur/bukowy/LaViolette_Data/Prostates/1149/10\n",
      "failed to read points: /data/ur/bukowy/LaViolette_Data/Prostates/1149/11\n",
      "failed to read points: /data/ur/bukowy/LaViolette_Data/Prostates/1149/12\n",
      "failed to read points: /data/ur/bukowy/LaViolette_Data/Prostates/1149/13\n",
      "failed to read points: /data/ur/bukowy/LaViolette_Data/Prostates/1149/5\n",
      "failed to read histology /data/ur/bukowy/LaViolette_Data/Prostates/1149/6\n",
      "failed to read histology /data/ur/bukowy/LaViolette_Data/Prostates/1149/8\n",
      "failed to read histology /data/ur/bukowy/LaViolette_Data/Prostates/1149/9\n"
     ]
    },
    {
     "name": "stderr",
     "output_type": "stream",
     "text": [
      "pixdim[1,2,3] should be non-zero; setting 0 dims to 1\n",
      "pixdim[1,2,3] should be non-zero; setting 0 dims to 1\n",
      "pixdim[1,2,3] should be non-zero; setting 0 dims to 1\n",
      "pixdim[1,2,3] should be non-zero; setting 0 dims to 1\n"
     ]
    },
    {
     "name": "stdout",
     "output_type": "stream",
     "text": [
      "failed to read histology /data/ur/bukowy/LaViolette_Data/Prostates/1152/11\n",
      "failed to read points: /data/ur/bukowy/LaViolette_Data/Prostates/1152/12\n",
      "failed to read points: /data/ur/bukowy/LaViolette_Data/Prostates/1152/13\n",
      "failed to read points: /data/ur/bukowy/LaViolette_Data/Prostates/1152/5\n",
      "failed to read histology /data/ur/bukowy/LaViolette_Data/Prostates/1152/8\n"
     ]
    },
    {
     "name": "stderr",
     "output_type": "stream",
     "text": [
      "pixdim[1,2,3] should be non-zero; setting 0 dims to 1\n",
      "pixdim[1,2,3] should be non-zero; setting 0 dims to 1\n",
      "pixdim[1,2,3] should be non-zero; setting 0 dims to 1\n",
      "pixdim[1,2,3] should be non-zero; setting 0 dims to 1\n"
     ]
    },
    {
     "name": "stdout",
     "output_type": "stream",
     "text": [
      "failed to read histology /data/ur/bukowy/LaViolette_Data/Prostates/1152/9\n"
     ]
    },
    {
     "name": "stderr",
     "output_type": "stream",
     "text": [
      "pixdim[1,2,3] should be non-zero; setting 0 dims to 1\n",
      "pixdim[1,2,3] should be non-zero; setting 0 dims to 1\n",
      "pixdim[1,2,3] should be non-zero; setting 0 dims to 1\n",
      "pixdim[1,2,3] should be non-zero; setting 0 dims to 1\n"
     ]
    },
    {
     "name": "stdout",
     "output_type": "stream",
     "text": [
      "failed to read points: /data/ur/bukowy/LaViolette_Data/Prostates/1154/14\n",
      "failed to read points: /data/ur/bukowy/LaViolette_Data/Prostates/1154/15\n",
      "failed to read points: /data/ur/bukowy/LaViolette_Data/Prostates/1154/5\n",
      "failed to read points: /data/ur/bukowy/LaViolette_Data/Prostates/1154/6\n"
     ]
    },
    {
     "name": "stderr",
     "output_type": "stream",
     "text": [
      "pixdim[1,2,3] should be non-zero; setting 0 dims to 1\n",
      "pixdim[1,2,3] should be non-zero; setting 0 dims to 1\n",
      "pixdim[1,2,3] should be non-zero; setting 0 dims to 1\n",
      "pixdim[1,2,3] should be non-zero; setting 0 dims to 1\n",
      "pixdim[1,2,3] should be non-zero; setting 0 dims to 1\n",
      "pixdim[1,2,3] should be non-zero; setting 0 dims to 1\n"
     ]
    },
    {
     "name": "stdout",
     "output_type": "stream",
     "text": [
      "failed to read points: /data/ur/bukowy/LaViolette_Data/Prostates/1155/13\n",
      "failed to read points: /data/ur/bukowy/LaViolette_Data/Prostates/1155/14\n"
     ]
    },
    {
     "name": "stderr",
     "output_type": "stream",
     "text": [
      "pixdim[1,2,3] should be non-zero; setting 0 dims to 1\n",
      "pixdim[1,2,3] should be non-zero; setting 0 dims to 1\n",
      "pixdim[1,2,3] should be non-zero; setting 0 dims to 1\n",
      "pixdim[1,2,3] should be non-zero; setting 0 dims to 1\n",
      "pixdim[1,2,3] should be non-zero; setting 0 dims to 1\n",
      "pixdim[1,2,3] should be non-zero; setting 0 dims to 1\n",
      "pixdim[1,2,3] should be non-zero; setting 0 dims to 1\n",
      "pixdim[1,2,3] should be non-zero; setting 0 dims to 1\n"
     ]
    },
    {
     "name": "stdout",
     "output_type": "stream",
     "text": [
      "failed to read points: /data/ur/bukowy/LaViolette_Data/Prostates/1158/15\n"
     ]
    },
    {
     "name": "stderr",
     "output_type": "stream",
     "text": [
      "pixdim[1,2,3] should be non-zero; setting 0 dims to 1\n",
      "pixdim[1,2,3] should be non-zero; setting 0 dims to 1\n",
      "pixdim[1,2,3] should be non-zero; setting 0 dims to 1\n",
      "pixdim[1,2,3] should be non-zero; setting 0 dims to 1\n"
     ]
    },
    {
     "name": "stdout",
     "output_type": "stream",
     "text": [
      "failed to read histology /data/ur/bukowy/LaViolette_Data/Prostates/1159/12\n",
      "failed to read points: /data/ur/bukowy/LaViolette_Data/Prostates/1159/13\n",
      "failed to read points: /data/ur/bukowy/LaViolette_Data/Prostates/1159/14\n"
     ]
    },
    {
     "name": "stderr",
     "output_type": "stream",
     "text": [
      "pixdim[1,2,3] should be non-zero; setting 0 dims to 1\n",
      "pixdim[1,2,3] should be non-zero; setting 0 dims to 1\n"
     ]
    },
    {
     "name": "stdout",
     "output_type": "stream",
     "text": [
      "failed to read mri: /data/ur/bukowy/LaViolette_Data/Prostates/1185/10\n",
      "failed to read mri: /data/ur/bukowy/LaViolette_Data/Prostates/1185/11\n",
      "failed to read mri: /data/ur/bukowy/LaViolette_Data/Prostates/1185/6\n",
      "failed to read mri: /data/ur/bukowy/LaViolette_Data/Prostates/1185/7\n",
      "failed to read mri: /data/ur/bukowy/LaViolette_Data/Prostates/1185/8\n",
      "failed to read mri: /data/ur/bukowy/LaViolette_Data/Prostates/1185/9\n",
      "failed to read mri: /data/ur/bukowy/LaViolette_Data/Prostates/1187/10\n",
      "failed to read mri: /data/ur/bukowy/LaViolette_Data/Prostates/1187/11\n",
      "failed to read mri: /data/ur/bukowy/LaViolette_Data/Prostates/1187/12\n",
      "failed to read mri: /data/ur/bukowy/LaViolette_Data/Prostates/1187/13\n",
      "failed to read mri: /data/ur/bukowy/LaViolette_Data/Prostates/1187/14\n",
      "failed to read mri: /data/ur/bukowy/LaViolette_Data/Prostates/1187/5\n",
      "failed to read mri: /data/ur/bukowy/LaViolette_Data/Prostates/1187/6\n",
      "failed to read mri: /data/ur/bukowy/LaViolette_Data/Prostates/1187/7\n",
      "failed to read mri: /data/ur/bukowy/LaViolette_Data/Prostates/1187/8\n",
      "failed to read mri: /data/ur/bukowy/LaViolette_Data/Prostates/1187/9\n",
      "failed to read mri: /data/ur/bukowy/LaViolette_Data/Prostates/1188/10\n",
      "failed to read mri: /data/ur/bukowy/LaViolette_Data/Prostates/1188/11\n",
      "failed to read mri: /data/ur/bukowy/LaViolette_Data/Prostates/1188/12\n",
      "failed to read mri: /data/ur/bukowy/LaViolette_Data/Prostates/1188/13\n",
      "failed to read points: /data/ur/bukowy/LaViolette_Data/Prostates/1188/14\n",
      "failed to read mri: /data/ur/bukowy/LaViolette_Data/Prostates/1188/5\n",
      "failed to read mri: /data/ur/bukowy/LaViolette_Data/Prostates/1188/6\n",
      "failed to read mri: /data/ur/bukowy/LaViolette_Data/Prostates/1188/7\n",
      "failed to read points: /data/ur/bukowy/LaViolette_Data/Prostates/1188/8\n",
      "failed to read points: /data/ur/bukowy/LaViolette_Data/Prostates/1188/9\n",
      "failed to read mri: /data/ur/bukowy/LaViolette_Data/Prostates/1190/10\n",
      "failed to read mri: /data/ur/bukowy/LaViolette_Data/Prostates/1190/11\n",
      "failed to read mri: /data/ur/bukowy/LaViolette_Data/Prostates/1190/12\n",
      "failed to read mri: /data/ur/bukowy/LaViolette_Data/Prostates/1190/13\n",
      "failed to read points: /data/ur/bukowy/LaViolette_Data/Prostates/1190/14\n",
      "failed to read points: /data/ur/bukowy/LaViolette_Data/Prostates/1190/15\n",
      "failed to read points: /data/ur/bukowy/LaViolette_Data/Prostates/1190/16\n",
      "failed to read points: /data/ur/bukowy/LaViolette_Data/Prostates/1190/9\n",
      "failed to read mri: /data/ur/bukowy/LaViolette_Data/Prostates/1191/10\n",
      "failed to read mri: /data/ur/bukowy/LaViolette_Data/Prostates/1191/11\n",
      "failed to read mri: /data/ur/bukowy/LaViolette_Data/Prostates/1191/12\n",
      "failed to read mri: /data/ur/bukowy/LaViolette_Data/Prostates/1191/13\n",
      "failed to read mri: /data/ur/bukowy/LaViolette_Data/Prostates/1191/14\n",
      "failed to read mri: /data/ur/bukowy/LaViolette_Data/Prostates/1191/15\n",
      "failed to read mri: /data/ur/bukowy/LaViolette_Data/Prostates/1191/16\n",
      "failed to read mri: /data/ur/bukowy/LaViolette_Data/Prostates/1191/17\n",
      "failed to read mri: /data/ur/bukowy/LaViolette_Data/Prostates/1191/18\n",
      "failed to read points: /data/ur/bukowy/LaViolette_Data/Prostates/1191/19\n",
      "failed to read points: /data/ur/bukowy/LaViolette_Data/Prostates/1191/9\n",
      "failed to read mri: /data/ur/bukowy/LaViolette_Data/Prostates/1200/10\n",
      "failed to read mri: /data/ur/bukowy/LaViolette_Data/Prostates/1200/11\n",
      "failed to read mri: /data/ur/bukowy/LaViolette_Data/Prostates/1200/12\n",
      "failed to read mri: /data/ur/bukowy/LaViolette_Data/Prostates/1200/13\n",
      "failed to read mri: /data/ur/bukowy/LaViolette_Data/Prostates/1200/14\n",
      "failed to read mri: /data/ur/bukowy/LaViolette_Data/Prostates/1200/15\n",
      "failed to read mri: /data/ur/bukowy/LaViolette_Data/Prostates/1200/16\n",
      "failed to read mri: /data/ur/bukowy/LaViolette_Data/Prostates/1200/17\n",
      "failed to read mri: /data/ur/bukowy/LaViolette_Data/Prostates/1200/8\n",
      "failed to read mri: /data/ur/bukowy/LaViolette_Data/Prostates/1200/9\n",
      "failed to read mri: /data/ur/bukowy/LaViolette_Data/Prostates/1203/10\n",
      "failed to read mri: /data/ur/bukowy/LaViolette_Data/Prostates/1203/11\n",
      "failed to read mri: /data/ur/bukowy/LaViolette_Data/Prostates/1203/12\n",
      "failed to read mri: /data/ur/bukowy/LaViolette_Data/Prostates/1203/13\n",
      "failed to read mri: /data/ur/bukowy/LaViolette_Data/Prostates/1203/14\n",
      "failed to read mri: /data/ur/bukowy/LaViolette_Data/Prostates/1203/8\n",
      "failed to read mri: /data/ur/bukowy/LaViolette_Data/Prostates/1203/9\n",
      "failed to read mri: /data/ur/bukowy/LaViolette_Data/Prostates/1204/10\n",
      "failed to read mri: /data/ur/bukowy/LaViolette_Data/Prostates/1204/11\n",
      "failed to read mri: /data/ur/bukowy/LaViolette_Data/Prostates/1204/12\n",
      "failed to read mri: /data/ur/bukowy/LaViolette_Data/Prostates/1204/13\n",
      "failed to read mri: /data/ur/bukowy/LaViolette_Data/Prostates/1204/14\n",
      "failed to read mri: /data/ur/bukowy/LaViolette_Data/Prostates/1204/15\n",
      "failed to read mri: /data/ur/bukowy/LaViolette_Data/Prostates/1204/16\n",
      "failed to read mri: /data/ur/bukowy/LaViolette_Data/Prostates/1204/17\n",
      "failed to read mri: /data/ur/bukowy/LaViolette_Data/Prostates/1204/18\n",
      "failed to read mri: /data/ur/bukowy/LaViolette_Data/Prostates/1204/19\n",
      "failed to read mri: /data/ur/bukowy/LaViolette_Data/Prostates/1204/8\n",
      "failed to read mri: /data/ur/bukowy/LaViolette_Data/Prostates/1204/9\n"
     ]
    }
   ],
   "source": [
    "for slide in all_slides:  \n",
    "    process_folder_moving(slide)"
   ]
  },
  {
   "cell_type": "code",
   "execution_count": 10,
   "metadata": {},
   "outputs": [],
   "source": [
    "lengths = []\n",
    "for slide in all_slides:\n",
    "    try:\n",
    "        points = pd.read_csv(os.path.join(slide, \"filtered_points.csv\"))\n",
    "        lengths.append(len(points))\n",
    "    except:\n",
    "        pass"
   ]
  },
  {
   "cell_type": "code",
   "execution_count": 11,
   "metadata": {
    "scrolled": true
   },
   "outputs": [
    {
     "data": {
      "text/plain": [
       "180"
      ]
     },
     "execution_count": 11,
     "metadata": {},
     "output_type": "execute_result"
    }
   ],
   "source": [
    "len(lengths)"
   ]
  },
  {
   "cell_type": "code",
   "execution_count": 12,
   "metadata": {},
   "outputs": [
    {
     "name": "stdout",
     "output_type": "stream",
     "text": [
      "4469\n"
     ]
    },
    {
     "data": {
      "image/png": "[encoded data removed]",
      "text/plain": [
       "<Figure size 432x288 with 1 Axes>"
      ]
     },
     "metadata": {
      "needs_background": "light"
     },
     "output_type": "display_data"
    }
   ],
   "source": [
    "plt.hist(np.array(lengths).T, bins=range(min(lengths), max(lengths), 3))\n",
    "plt.xticks(range(min(lengths), max(lengths), 3), range(min(lengths), max(lengths), 3))\n",
    "plt.xlabel(\"Num Points\")\n",
    "plt.ylabel(\"Num Slides\")\n",
    "plt.title(\"Point Count Distribution\")\n",
    "print(np.sum(lengths))"
   ]
  }
 ],
 "metadata": {
  "kernelspec": {
   "display_name": "Python 3",
   "language": "python",
   "name": "python3"
  },
  "language_info": {
   "codemirror_mode": {
    "name": "ipython",
    "version": 3
   },
   "file_extension": ".py",
   "mimetype": "text/x-python",
   "name": "python",
   "nbconvert_exporter": "python",
   "pygments_lexer": "ipython3",
   "version": "3.6.9"
  }
 },
 "nbformat": 4,
 "nbformat_minor": 4
}
