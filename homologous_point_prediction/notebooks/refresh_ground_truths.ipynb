{
 "cells": [
  {
   "cell_type": "markdown",
   "metadata": {},
   "source": [
    "# Refresh Ground Truths"
   ]
  },
  {
   "cell_type": "markdown",
   "metadata": {},
   "source": [
    "Iterate over all potential prostate slices in dataset and update file avaiability"
   ]
  },
  {
   "cell_type": "code",
   "execution_count": 10,
   "metadata": {},
   "outputs": [],
   "source": [
    "import pandas as pd\n",
    "import os"
   ]
  },
  {
   "cell_type": "code",
   "execution_count": 4,
   "metadata": {},
   "outputs": [],
   "source": [
    "csv_path = \"../data_processing/metadata/ground_truths.csv\"\n",
    "prostate_data_parent_dir = \"/data/ur/bukowy/LaViolette_Data/Prostates/\""
   ]
  },
  {
   "cell_type": "code",
   "execution_count": 8,
   "metadata": {
    "scrolled": true
   },
   "outputs": [
    {
     "data": {
      "text/html": [
       "<div>\n",
       "<style scoped>\n",
       "    .dataframe tbody tr th:only-of-type {\n",
       "        vertical-align: middle;\n",
       "    }\n",
       "\n",
       "    .dataframe tbody tr th {\n",
       "        vertical-align: top;\n",
       "    }\n",
       "\n",
       "    .dataframe thead th {\n",
       "        text-align: right;\n",
       "    }\n",
       "</style>\n",
       "<table border=\"1\" class=\"dataframe\">\n",
       "  <thead>\n",
       "    <tr style=\"text-align: right;\">\n",
       "      <th></th>\n",
       "      <th>Patient</th>\n",
       "      <th>Slice</th>\n",
       "      <th>QC</th>\n",
       "      <th>PGT Fuzzy QC</th>\n",
       "      <th>PGT Sharp QC</th>\n",
       "      <th>T2</th>\n",
       "      <th>T2_norm</th>\n",
       "      <th>T2_bladdernorm</th>\n",
       "      <th>T2_musclenorm</th>\n",
       "    </tr>\n",
       "  </thead>\n",
       "  <tbody>\n",
       "    <tr>\n",
       "      <th>0</th>\n",
       "      <td>1101</td>\n",
       "      <td>6</td>\n",
       "      <td>1</td>\n",
       "      <td>0.0</td>\n",
       "      <td>0</td>\n",
       "      <td>1.0</td>\n",
       "      <td>1.0</td>\n",
       "      <td>0.0</td>\n",
       "      <td>0.0</td>\n",
       "    </tr>\n",
       "    <tr>\n",
       "      <th>1</th>\n",
       "      <td>1101</td>\n",
       "      <td>7</td>\n",
       "      <td>1</td>\n",
       "      <td>0.0</td>\n",
       "      <td>0</td>\n",
       "      <td>1.0</td>\n",
       "      <td>1.0</td>\n",
       "      <td>0.0</td>\n",
       "      <td>0.0</td>\n",
       "    </tr>\n",
       "    <tr>\n",
       "      <th>2</th>\n",
       "      <td>1101</td>\n",
       "      <td>8</td>\n",
       "      <td>1</td>\n",
       "      <td>0.0</td>\n",
       "      <td>0</td>\n",
       "      <td>1.0</td>\n",
       "      <td>1.0</td>\n",
       "      <td>0.0</td>\n",
       "      <td>0.0</td>\n",
       "    </tr>\n",
       "    <tr>\n",
       "      <th>3</th>\n",
       "      <td>1101</td>\n",
       "      <td>9</td>\n",
       "      <td>1</td>\n",
       "      <td>0.0</td>\n",
       "      <td>0</td>\n",
       "      <td>1.0</td>\n",
       "      <td>1.0</td>\n",
       "      <td>0.0</td>\n",
       "      <td>0.0</td>\n",
       "    </tr>\n",
       "    <tr>\n",
       "      <th>4</th>\n",
       "      <td>1102</td>\n",
       "      <td>8</td>\n",
       "      <td>1</td>\n",
       "      <td>1.0</td>\n",
       "      <td>1</td>\n",
       "      <td>1.0</td>\n",
       "      <td>1.0</td>\n",
       "      <td>0.0</td>\n",
       "      <td>0.0</td>\n",
       "    </tr>\n",
       "  </tbody>\n",
       "</table>\n",
       "</div>"
      ],
      "text/plain": [
       "   Patient  Slice QC  PGT Fuzzy QC PGT Sharp QC   T2  T2_norm  T2_bladdernorm  \\\n",
       "0     1101      6  1           0.0            0  1.0      1.0             0.0   \n",
       "1     1101      7  1           0.0            0  1.0      1.0             0.0   \n",
       "2     1101      8  1           0.0            0  1.0      1.0             0.0   \n",
       "3     1101      9  1           0.0            0  1.0      1.0             0.0   \n",
       "4     1102      8  1           1.0            1  1.0      1.0             0.0   \n",
       "\n",
       "   T2_musclenorm  \n",
       "0            0.0  \n",
       "1            0.0  \n",
       "2            0.0  \n",
       "3            0.0  \n",
       "4            0.0  "
      ]
     },
     "execution_count": 8,
     "metadata": {},
     "output_type": "execute_result"
    }
   ],
   "source": [
    "df_ground_truths = pd.read_csv(csv_path)\n",
    "df_ground_truths.head()"
   ]
  },
  {
   "cell_type": "code",
   "execution_count": 12,
   "metadata": {},
   "outputs": [],
   "source": [
    "T2s, T2_norms, T2_bladdernorms, T2_musclenorms = [], [], [], []\n",
    "for patient, slide in zip(df_ground_truths[\"Patient\"], df_ground_truths[\"Slice\"]):\n",
    "    slice_dir = os.path.join(prostate_data_parent_dir, str(int(patient)), str(int(slide)))\n",
    "    T2s.append(int(os.path.exists(os.path.join(slice_dir, \"mri_slice_double_T2.nii\"))))\n",
    "    T2_norms.append(int(os.path.exists(os.path.join(slice_dir, \"mri_slice_double_T2_norm.nii\"))))\n",
    "    T2_bladdernorms.append(int(os.path.exists(os.path.join(slice_dir, \"mri_slice_double_T2_bladdernorm.nii\"))))\n",
    "    T2_musclenorms.append(int(os.path.exists(os.path.join(slice_dir, \"mri_slice_double_T2_musclenorm.nii\"))))"
   ]
  },
  {
   "cell_type": "code",
   "execution_count": 13,
   "metadata": {},
   "outputs": [],
   "source": [
    "# Update and save\n",
    "del(df_ground_truths[\"T2\"])\n",
    "del(df_ground_truths[\"T2_norm\"])\n",
    "del(df_ground_truths[\"T2_bladdernorm\"])\n",
    "del(df_ground_truths[\"T2_musclenorm\"])\n",
    "\n",
    "df_ground_truths[\"T2\"] = T2s\n",
    "df_ground_truths[\"T2_norm\"] = T2_norms\n",
    "df_ground_truths[\"T2_bladdernorm\"] = T2_bladdernorms\n",
    "df_ground_truths[\"T2_musclenorm\"] = T2_musclenorms"
   ]
  },
  {
   "cell_type": "code",
   "execution_count": 15,
   "metadata": {},
   "outputs": [],
   "source": [
    "df_ground_truths.to_csv(csv_path, index=False)"
   ]
  }
 ],
 "metadata": {
  "kernelspec": {
   "display_name": "Python 3",
   "language": "python",
   "name": "python3"
  },
  "language_info": {
   "codemirror_mode": {
    "name": "ipython",
    "version": 3
   },
   "file_extension": ".py",
   "mimetype": "text/x-python",
   "name": "python",
   "nbconvert_exporter": "python",
   "pygments_lexer": "ipython3",
   "version": "3.7.3"
  }
 },
 "nbformat": 4,
 "nbformat_minor": 4
}
